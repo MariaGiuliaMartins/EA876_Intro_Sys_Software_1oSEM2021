{
  "nbformat": 4,
  "nbformat_minor": 0,
  "metadata": {
    "colab": {
      "name": "Atividade 1: Análise Léxica.ipynb",
      "provenance": [],
      "collapsed_sections": []
    },
    "kernelspec": {
      "name": "python3",
      "display_name": "Python 3"
    },
    "language_info": {
      "name": "python"
    }
  },
  "cells": [
    {
      "cell_type": "markdown",
      "metadata": {
        "id": "02JOCPDzG8i_"
      },
      "source": [
        "Aluna: Maria Giulia Martins\n",
        "\n",
        "RA: 202819"
      ]
    },
    {
      "cell_type": "markdown",
      "metadata": {
        "id": "PJiYylQnHcMk"
      },
      "source": [
        "# Enunciado"
      ]
    },
    {
      "cell_type": "markdown",
      "metadata": {
        "id": "gcqWipMCHFLz"
      },
      "source": [
        "Escreva um programa em Flex/PLY capaz de detectar em um texto digitado:\n",
        "\n",
        "* números inteiros positivos e negativos (10, -85, ...);\n",
        "* números em hexadecimal (0xFF, 0X123, ...);\n",
        "* números reais positivos e negativos com ponto decimal (2.765, -3.543, ...);\n",
        "* números com expoentes decimais inteiros (1.56E2, -1.56e-2, ...).\n",
        "\n",
        "Ao detectar um número, o programa deve imprimir seu tipo e o dobro de seu valor númerico (semântico). Para converter o número detectado (string) em seu valor numérico utilize as seguintes funções:\n",
        "\n",
        "C++:\n",
        "\n",
        "    int i = atoi(\"123\");\n",
        "    long l = strol(\"0xFF\", NULL, 16);\n",
        "    double d = strtod(\"3.14\", NULL);\n",
        "\n",
        "Python:\n",
        "\n",
        "    i = int(\"123\")\n",
        "    l = int(\"0xFF\", 16)\n",
        "    d = float(\"3.14\")\n",
        "\n",
        "Onde deve se dar a conversão e impressão? Em Flex na seção de Ações; em PLY nas funções t_XXXX(t).\n",
        "\n",
        "O aluno poderá submeter um texto em PDF, uma foto, ou o próprio programa (.l ou .py).\n"
      ]
    },
    {
      "cell_type": "markdown",
      "metadata": {
        "id": "ETSBSAYsIsA8"
      },
      "source": [
        "# Programa"
      ]
    },
    {
      "cell_type": "code",
      "metadata": {
        "id": "dUEtXTk4JTKH"
      },
      "source": [
        "#bibliotecas\n",
        "import sys\n",
        "sys.path.append(\"../..\")\n",
        "from ply import *\n",
        "\n",
        "\n",
        "#tokens\n",
        "tokens = ['INT_NUMBER', 'HEX_NUMBER', 'REAL_NUMBER', 'EXP_NUMBER']\n",
        "\n",
        "\n",
        "#função que define um número inteiro\n",
        "def t_INT_NUMBER(t):\n",
        "  r'\\d+'\n",
        "  i = int(t)\n",
        "  print(\"Valor inserido:\", t)\n",
        "  print(\"Tipo de\", t, end='')\n",
        "  print(\":\", type(i))\n",
        "  print(\"Dobro de\", t, end='')\n",
        "  print(\":\", 2*i)\n",
        "\n",
        "#função que define um número hexadecimal\n",
        "def t_HEX_NUMBER(t):\n",
        "  r'\\d+'\n",
        "  h = int(t, 16)\n",
        "  print(\"Valor inserido:\", t)\n",
        "  print(\"Tipo de\", t, end='')\n",
        "  print(\":\", type(hex(h))) #note que o retorno da função hex() é uma string do número decimal\n",
        "  print(\"Dobro de\", t, end='')\n",
        "  print(\" em hexadecimal:\", (hex(2*h)).upper()) #string.upper() usado para deixar o número em letras maiúsculas\n",
        "  print(\"Dobro de\", t, end='')\n",
        "  print(\" em decimal:\", 2*h)\n",
        "\n",
        "#função que define um número real\n",
        "def t_REAL_NUMBER(t):\n",
        "  r'\\d+'\n",
        "  r = float(t)\n",
        "  print(\"Valor inserido:\", t)\n",
        "  print(\"Tipo de\", t, end='')\n",
        "  print(\":\", type(r))\n",
        "  print(\"Dobro de\", t, end='')\n",
        "  print(\":\", 2*r)\n",
        "\n",
        "#função que define um número com expoente inteiro\n",
        "def t_EXP_NUMBER(t):\n",
        "  r'\\d+'\n",
        "  e = float(t)\n",
        "  print(\"Valor inserido:\", t.upper())#string.upper() usado para deixar o número em letras maiúsculas\n",
        "  print(\"Tipo de\", t.upper(), end='')#string.upper() usado para deixar o número em letras maiúsculas\n",
        "  print(\":\", type(e))\n",
        "  print(\"Dobro de\", t.upper(), end='')#string.upper() usado para deixar o número em letras maiúsculas\n",
        "  print(\" em decimal:\", 2*e)\n",
        "  print(\"Dobro de\", t.upper(), end='')#string.upper() usado para deixar o número em letras maiúsculas\n",
        "  print(\" em notação científica:\", \"{:.2e}\".format(2*e))"
      ],
      "execution_count": null,
      "outputs": []
    },
    {
      "cell_type": "markdown",
      "metadata": {
        "id": "Yuwh7Xu7hZli"
      },
      "source": [
        "# Testes"
      ]
    },
    {
      "cell_type": "markdown",
      "metadata": {
        "id": "sWZHDv-Khi-_"
      },
      "source": [
        "## Para valores Inteiros"
      ]
    },
    {
      "cell_type": "code",
      "metadata": {
        "colab": {
          "base_uri": "https://localhost:8080/"
        },
        "id": "qNjVomPrLLOb",
        "outputId": "c2dc23da-460d-4789-8f1c-e490af90f8bd"
      },
      "source": [
        "t_INT_NUMBER(\"50\")"
      ],
      "execution_count": null,
      "outputs": [
        {
          "output_type": "stream",
          "text": [
            "Valor inserido: 50\n",
            "Tipo de 50: <class 'int'>\n",
            "Dobro de 50: 100\n"
          ],
          "name": "stdout"
        }
      ]
    },
    {
      "cell_type": "code",
      "metadata": {
        "colab": {
          "base_uri": "https://localhost:8080/"
        },
        "id": "rbs3Cy6Nhmwt",
        "outputId": "786fd278-f685-469b-db01-948ce5a2d682"
      },
      "source": [
        "t_INT_NUMBER(\"-25\")"
      ],
      "execution_count": null,
      "outputs": [
        {
          "output_type": "stream",
          "text": [
            "Valor inserido: -25\n",
            "Tipo de -25: <class 'int'>\n",
            "Dobro de -25: -50\n"
          ],
          "name": "stdout"
        }
      ]
    },
    {
      "cell_type": "markdown",
      "metadata": {
        "id": "5CuAVtPShrgn"
      },
      "source": [
        "## Para valores Hexadecimais"
      ]
    },
    {
      "cell_type": "code",
      "metadata": {
        "colab": {
          "base_uri": "https://localhost:8080/"
        },
        "id": "RdD_KSHQLNi7",
        "outputId": "a910c3ee-e372-45cf-f3ac-5e0e400dfec1"
      },
      "source": [
        "t_HEX_NUMBER(\"0xFF\")"
      ],
      "execution_count": null,
      "outputs": [
        {
          "output_type": "stream",
          "text": [
            "Valor inserido: 0xFF\n",
            "Tipo de 0xFF: <class 'str'>\n",
            "Dobro de 0xFF em hexadecimal: 0X1FE\n",
            "Dobro de 0xFF em decimal: 510\n"
          ],
          "name": "stdout"
        }
      ]
    },
    {
      "cell_type": "code",
      "metadata": {
        "colab": {
          "base_uri": "https://localhost:8080/"
        },
        "id": "-nVUeHWgh1gm",
        "outputId": "085d6bdc-b006-48d9-a79c-b4c2e5581b2f"
      },
      "source": [
        "t_HEX_NUMBER(\"-0xAF\")"
      ],
      "execution_count": null,
      "outputs": [
        {
          "output_type": "stream",
          "text": [
            "Valor inserido: -0xAF\n",
            "Tipo de -0xAF: <class 'str'>\n",
            "Dobro de -0xAF em hexadecimal: -0X15E\n",
            "Dobro de -0xAF em decimal: -350\n"
          ],
          "name": "stdout"
        }
      ]
    },
    {
      "cell_type": "markdown",
      "metadata": {
        "id": "zgV7Llt_h83H"
      },
      "source": [
        "## Para valores Reais"
      ]
    },
    {
      "cell_type": "code",
      "metadata": {
        "colab": {
          "base_uri": "https://localhost:8080/"
        },
        "id": "xEtXgsHSXt53",
        "outputId": "146cb567-d165-4efa-876b-adaa2debd6d0"
      },
      "source": [
        "t_REAL_NUMBER(\"3.14\")"
      ],
      "execution_count": null,
      "outputs": [
        {
          "output_type": "stream",
          "text": [
            "Valor inserido: 3.14\n",
            "Tipo de 3.14: <class 'float'>\n",
            "Dobro de 3.14: 6.28\n"
          ],
          "name": "stdout"
        }
      ]
    },
    {
      "cell_type": "code",
      "metadata": {
        "colab": {
          "base_uri": "https://localhost:8080/"
        },
        "id": "YpobNmm0iAJG",
        "outputId": "ed70efb2-78e5-4aff-f558-15388539e701"
      },
      "source": [
        "t_REAL_NUMBER(\"-0.57\")"
      ],
      "execution_count": null,
      "outputs": [
        {
          "output_type": "stream",
          "text": [
            "Valor inserido: -0.57\n",
            "Tipo de -0.57: <class 'float'>\n",
            "Dobro de -0.57: -1.14\n"
          ],
          "name": "stdout"
        }
      ]
    },
    {
      "cell_type": "markdown",
      "metadata": {
        "id": "9r9ynvpOiGZ3"
      },
      "source": [
        "## Para valores com Exponenciais formdos por Números Inteiros"
      ]
    },
    {
      "cell_type": "code",
      "metadata": {
        "colab": {
          "base_uri": "https://localhost:8080/"
        },
        "id": "XDvT5_MhgZ8I",
        "outputId": "5ea79678-03b1-4b0a-871a-e43775d560f9"
      },
      "source": [
        "t_EXP_NUMBER(\"1.56e2\")"
      ],
      "execution_count": null,
      "outputs": [
        {
          "output_type": "stream",
          "text": [
            "Valor inserido: 1.56E2\n",
            "Tipo de 1.56E2: <class 'float'>\n",
            "Dobro de 1.56E2 em decimal: 312.0\n",
            "Dobro de 1.56E2 em notação científica: 3.12e+02\n"
          ],
          "name": "stdout"
        }
      ]
    },
    {
      "cell_type": "code",
      "metadata": {
        "colab": {
          "base_uri": "https://localhost:8080/"
        },
        "id": "Sfl8AOkLiSeb",
        "outputId": "f6934fb9-9b7d-41a7-daa6-eb0aafc52f32"
      },
      "source": [
        "t_EXP_NUMBER(\"-1.56e2\")"
      ],
      "execution_count": null,
      "outputs": [
        {
          "output_type": "stream",
          "text": [
            "Valor inserido: -1.56E2\n",
            "Tipo de -1.56E2: <class 'float'>\n",
            "Dobro de -1.56E2 em decimal: -312.0\n",
            "Dobro de -1.56E2 em notação científica: -3.12e+02\n"
          ],
          "name": "stdout"
        }
      ]
    },
    {
      "cell_type": "code",
      "metadata": {
        "colab": {
          "base_uri": "https://localhost:8080/"
        },
        "id": "XyOKdsOMhBry",
        "outputId": "99b2a6e4-8e11-4525-de31-69684c483266"
      },
      "source": [
        "t_EXP_NUMBER(\"1.5e-3\")"
      ],
      "execution_count": null,
      "outputs": [
        {
          "output_type": "stream",
          "text": [
            "Valor inserido: 1.5E-3\n",
            "Tipo de 1.5E-3: <class 'float'>\n",
            "Dobro de 1.5E-3 em decimal: 0.003\n",
            "Dobro de 1.5E-3 em notação científica: 3.00e-03\n"
          ],
          "name": "stdout"
        }
      ]
    },
    {
      "cell_type": "code",
      "metadata": {
        "colab": {
          "base_uri": "https://localhost:8080/"
        },
        "id": "aVPH_97siVBI",
        "outputId": "ffce2db6-9239-4527-f7af-bb8eb3e302f2"
      },
      "source": [
        "t_EXP_NUMBER(\"-1.5e-3\")"
      ],
      "execution_count": null,
      "outputs": [
        {
          "output_type": "stream",
          "text": [
            "Valor inserido: -1.5E-3\n",
            "Tipo de -1.5E-3: <class 'float'>\n",
            "Dobro de -1.5E-3 em decimal: -0.003\n",
            "Dobro de -1.5E-3 em notação científica: -3.00e-03\n"
          ],
          "name": "stdout"
        }
      ]
    }
  ]
}