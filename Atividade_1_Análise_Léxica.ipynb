{
  "nbformat": 4,
  "nbformat_minor": 0,
  "metadata": {
    "colab": {
      "name": "Atividade 1: Análise Léxica.ipynb",
      "provenance": [],
      "collapsed_sections": []
    },
    "kernelspec": {
      "name": "python3",
      "display_name": "Python 3"
    },
    "language_info": {
      "name": "python"
    }
  },
  "cells": [
    {
      "cell_type": "markdown",
      "metadata": {
        "id": "PJiYylQnHcMk"
      },
      "source": [
        "# Enunciado"
      ]
    },
    {
      "cell_type": "markdown",
      "metadata": {
        "id": "gcqWipMCHFLz"
      },
      "source": [
        "Escreva um programa em Flex/PLY capaz de detectar em um texto digitado:\n",
        "\n",
        "* números inteiros positivos e negativos (10, -85, ...);\n",
        "* números em hexadecimal (0xFF, 0X123, ...);\n",
        "* números reais positivos e negativos com ponto decimal (2.765, -3.543, ...);\n",
        "* números com expoentes decimais inteiros (1.56E2, -1.56e-2, ...).\n",
        "\n",
        "Ao detectar um número, o programa deve imprimir seu tipo e o dobro de seu valor númerico (semântico). Para converter o número detectado (string) em seu valor numérico utilize as seguintes funções:\n",
        "\n",
        "C++:\n",
        "\n",
        "    int i = atoi(\"123\");\n",
        "    long l = strol(\"0xFF\", NULL, 16);\n",
        "    double d = strtod(\"3.14\", NULL);\n",
        "\n",
        "Python:\n",
        "\n",
        "    i = int(\"123\")\n",
        "    l = int(\"0xFF\", 16)\n",
        "    d = float(\"3.14\")\n",
        "\n",
        "Onde deve se dar a conversão e impressão? Em Flex na seção de Ações; em PLY nas funções t_XXXX(t).\n",
        "\n",
        "O aluno poderá submeter um texto em PDF, uma foto, ou o próprio programa (.l ou .py).\n"
      ]
    },
    {
      "cell_type": "markdown",
      "metadata": {
        "id": "ETSBSAYsIsA8"
      },
      "source": [
        "# Programa"
      ]
    },
    {
      "cell_type": "code",
      "metadata": {
        "id": "dUEtXTk4JTKH"
      },
      "source": [
        "#bibliotecas\n",
        "import sys\n",
        "sys.path.append(\"../..\")\n",
        "from ply import *\n",
        "\n",
        "\n",
        "#tokens\n",
        "tokens = ['INT_NUMBER', 'HEX_NUMBER', 'REAL_NUMBER', 'EXP_NUMBER']\n",
        "\n",
        "\n",
        "#função que define um número inteiro\n",
        "def t_INT_NUMBER(t):\n",
        "  r'\\d+'\n",
        "  i = int(t)\n",
        "  print(\"Valor inserido:\", t)\n",
        "  print(\"Tipo de\", t, end='')\n",
        "  print(\":\", type(i))\n",
        "  print(\"Dobro de\", t, end='')\n",
        "  print(\":\", 2*i)\n",
        "\n",
        "#função que define um número hexadecimal\n",
        "def t_HEX_NUMBER(t):\n",
        "  r'\\d+'\n",
        "  h = int(t, 16)\n",
        "  print(\"Valor inserido:\", t)\n",
        "  print(\"Tipo de\", t, end='')\n",
        "  print(\":\", type(hex(h))) #note que o retorno da função hex() é uma string do número decimal\n",
        "  print(\"Dobro de\", t, end='')\n",
        "  print(\" em hexadecimal:\", (hex(2*h)).upper()) #string.upper() usado para deixar o número em letras maiúsculas\n",
        "  print(\"Dobro de\", t, end='')\n",
        "  print(\" em decimal:\", 2*h)\n",
        "\n",
        "#função que define um número real\n",
        "def t_REAL_NUMBER(t):\n",
        "  r'\\d+'\n",
        "  r = float(t)\n",
        "  print(\"Valor inserido:\", t)\n",
        "  print(\"Tipo de\", t, end='')\n",
        "  print(\":\", type(r))\n",
        "  print(\"Dobro de\", t, end='')\n",
        "  print(\":\", 2*r)\n",
        "\n",
        "#função que define um número com expoente inteiro\n",
        "def t_EXP_NUMBER(t):\n",
        "  r'\\d+'\n",
        "  e = float(t)\n",
        "  print(\"Valor inserido:\", t.upper())#string.upper() usado para deixar o número em letras maiúsculas\n",
        "  print(\"Tipo de\", t.upper(), end='')#string.upper() usado para deixar o número em letras maiúsculas\n",
        "  print(\":\", type(e))\n",
        "  print(\"Dobro de\", t.upper(), end='')#string.upper() usado para deixar o número em letras maiúsculas\n",
        "  print(\" em decimal:\", 2*e)\n",
        "  print(\"Dobro de\", t.upper(), end='')#string.upper() usado para deixar o número em letras maiúsculas\n",
        "  print(\" em notação científica:\", \"{:.2e}\".format(2*e))"
      ],
      "execution_count": null,
      "outputs": []
    },
    {
      "cell_type": "markdown",
      "metadata": {
        "id": "Yuwh7Xu7hZli"
      },
      "source": [
        "# Testes"
      ]
    },
    {
      "cell_type": "markdown",
      "metadata": {
        "id": "sWZHDv-Khi-_"
      },
      "source": [
        "## Para valores Inteiros"
      ]
    },
    {
      "cell_type": "code",
      "metadata": {
        "colab": {
          "base_uri": "https://localhost:8080/"
        },
        "id": "qNjVomPrLLOb",
        "outputId": "37a9386f-ede5-4768-efd1-7a9ef416cd67"
      },
      "source": [
        "t_INT_NUMBER(\"0\")"
      ],
      "execution_count": null,
      "outputs": [
        {
          "output_type": "stream",
          "text": [
            "Valor inserido: 0\n",
            "Tipo de 0: <class 'int'>\n",
            "Dobro de 0: 0\n"
          ],
          "name": "stdout"
        }
      ]
    },
    {
      "cell_type": "code",
      "metadata": {
        "colab": {
          "base_uri": "https://localhost:8080/"
        },
        "id": "5yBelziDBOrX",
        "outputId": "da18f412-18bf-47fd-c219-787b55c4cca8"
      },
      "source": [
        "t_INT_NUMBER(\"50\")"
      ],
      "execution_count": null,
      "outputs": [
        {
          "output_type": "stream",
          "text": [
            "Valor inserido: 50\n",
            "Tipo de 50: <class 'int'>\n",
            "Dobro de 50: 100\n"
          ],
          "name": "stdout"
        }
      ]
    },
    {
      "cell_type": "code",
      "metadata": {
        "colab": {
          "base_uri": "https://localhost:8080/"
        },
        "id": "rbs3Cy6Nhmwt",
        "outputId": "d9e61676-2e5c-4005-b813-6f710ed5c56b"
      },
      "source": [
        "t_INT_NUMBER(\"-25\")"
      ],
      "execution_count": null,
      "outputs": [
        {
          "output_type": "stream",
          "text": [
            "Valor inserido: -25\n",
            "Tipo de -25: <class 'int'>\n",
            "Dobro de -25: -50\n"
          ],
          "name": "stdout"
        }
      ]
    },
    {
      "cell_type": "markdown",
      "metadata": {
        "id": "5CuAVtPShrgn"
      },
      "source": [
        "## Para valores Hexadecimais"
      ]
    },
    {
      "cell_type": "code",
      "metadata": {
        "colab": {
          "base_uri": "https://localhost:8080/"
        },
        "id": "wTZMz2rQBVqd",
        "outputId": "bf212506-2764-428c-adaa-dea1753194e5"
      },
      "source": [
        "t_HEX_NUMBER(\"0x0\")"
      ],
      "execution_count": null,
      "outputs": [
        {
          "output_type": "stream",
          "text": [
            "Valor inserido: 0x0\n",
            "Tipo de 0x0: <class 'str'>\n",
            "Dobro de 0x0 em hexadecimal: 0X0\n",
            "Dobro de 0x0 em decimal: 0\n"
          ],
          "name": "stdout"
        }
      ]
    },
    {
      "cell_type": "code",
      "metadata": {
        "colab": {
          "base_uri": "https://localhost:8080/"
        },
        "id": "RdD_KSHQLNi7",
        "outputId": "9f6c2e55-0ccd-4189-e314-265a0276f8a3"
      },
      "source": [
        "t_HEX_NUMBER(\"0xFF\")"
      ],
      "execution_count": null,
      "outputs": [
        {
          "output_type": "stream",
          "text": [
            "Valor inserido: 0xFF\n",
            "Tipo de 0xFF: <class 'str'>\n",
            "Dobro de 0xFF em hexadecimal: 0X1FE\n",
            "Dobro de 0xFF em decimal: 510\n"
          ],
          "name": "stdout"
        }
      ]
    },
    {
      "cell_type": "code",
      "metadata": {
        "colab": {
          "base_uri": "https://localhost:8080/"
        },
        "id": "-nVUeHWgh1gm",
        "outputId": "5fb0f8e9-5a3f-4592-e6c8-8a950d35430e"
      },
      "source": [
        "t_HEX_NUMBER(\"-0xAF\")"
      ],
      "execution_count": null,
      "outputs": [
        {
          "output_type": "stream",
          "text": [
            "Valor inserido: -0xAF\n",
            "Tipo de -0xAF: <class 'str'>\n",
            "Dobro de -0xAF em hexadecimal: -0X15E\n",
            "Dobro de -0xAF em decimal: -350\n"
          ],
          "name": "stdout"
        }
      ]
    },
    {
      "cell_type": "markdown",
      "metadata": {
        "id": "zgV7Llt_h83H"
      },
      "source": [
        "## Para valores Reais"
      ]
    },
    {
      "cell_type": "code",
      "metadata": {
        "colab": {
          "base_uri": "https://localhost:8080/"
        },
        "id": "yHMElXJFBh4c",
        "outputId": "9ec582fe-492e-4487-b048-dd5b3cbecbce"
      },
      "source": [
        "t_REAL_NUMBER(\"0\")"
      ],
      "execution_count": null,
      "outputs": [
        {
          "output_type": "stream",
          "text": [
            "Valor inserido: 0\n",
            "Tipo de 0: <class 'float'>\n",
            "Dobro de 0: 0.0\n"
          ],
          "name": "stdout"
        }
      ]
    },
    {
      "cell_type": "code",
      "metadata": {
        "colab": {
          "base_uri": "https://localhost:8080/"
        },
        "id": "xEtXgsHSXt53",
        "outputId": "7c4768ee-4d94-4b10-b9c1-642e670ba298"
      },
      "source": [
        "t_REAL_NUMBER(\"3.14\")"
      ],
      "execution_count": null,
      "outputs": [
        {
          "output_type": "stream",
          "text": [
            "Valor inserido: 3.14\n",
            "Tipo de 3.14: <class 'float'>\n",
            "Dobro de 3.14: 6.28\n"
          ],
          "name": "stdout"
        }
      ]
    },
    {
      "cell_type": "code",
      "metadata": {
        "colab": {
          "base_uri": "https://localhost:8080/"
        },
        "id": "YpobNmm0iAJG",
        "outputId": "adf9f5bf-d4d7-4445-c1bd-febb5aca97c0"
      },
      "source": [
        "t_REAL_NUMBER(\"-0.57\")"
      ],
      "execution_count": null,
      "outputs": [
        {
          "output_type": "stream",
          "text": [
            "Valor inserido: -0.57\n",
            "Tipo de -0.57: <class 'float'>\n",
            "Dobro de -0.57: -1.14\n"
          ],
          "name": "stdout"
        }
      ]
    },
    {
      "cell_type": "markdown",
      "metadata": {
        "id": "9r9ynvpOiGZ3"
      },
      "source": [
        "## Para valores com Exponenciais formdos por Números Inteiros"
      ]
    },
    {
      "cell_type": "code",
      "metadata": {
        "colab": {
          "base_uri": "https://localhost:8080/"
        },
        "id": "Gpr9SvVCBkbw",
        "outputId": "deb48037-0eb3-46bb-dc92-1d4f9369c772"
      },
      "source": [
        "t_EXP_NUMBER(\"0e2\")"
      ],
      "execution_count": null,
      "outputs": [
        {
          "output_type": "stream",
          "text": [
            "Valor inserido: 0E2\n",
            "Tipo de 0E2: <class 'float'>\n",
            "Dobro de 0E2 em decimal: 0.0\n",
            "Dobro de 0E2 em notação científica: 0.00e+00\n"
          ],
          "name": "stdout"
        }
      ]
    },
    {
      "cell_type": "code",
      "metadata": {
        "colab": {
          "base_uri": "https://localhost:8080/"
        },
        "id": "XDvT5_MhgZ8I",
        "outputId": "6590beb1-5210-4e0e-d52f-eafd41553ffa"
      },
      "source": [
        "t_EXP_NUMBER(\"1.56e2\")"
      ],
      "execution_count": null,
      "outputs": [
        {
          "output_type": "stream",
          "text": [
            "Valor inserido: 1.56E2\n",
            "Tipo de 1.56E2: <class 'float'>\n",
            "Dobro de 1.56E2 em decimal: 312.0\n",
            "Dobro de 1.56E2 em notação científica: 3.12e+02\n"
          ],
          "name": "stdout"
        }
      ]
    },
    {
      "cell_type": "code",
      "metadata": {
        "colab": {
          "base_uri": "https://localhost:8080/"
        },
        "id": "Sfl8AOkLiSeb",
        "outputId": "b6125ac4-4e79-4d48-b2e1-535a0589895e"
      },
      "source": [
        "t_EXP_NUMBER(\"-1.56e2\")"
      ],
      "execution_count": null,
      "outputs": [
        {
          "output_type": "stream",
          "text": [
            "Valor inserido: -1.56E2\n",
            "Tipo de -1.56E2: <class 'float'>\n",
            "Dobro de -1.56E2 em decimal: -312.0\n",
            "Dobro de -1.56E2 em notação científica: -3.12e+02\n"
          ],
          "name": "stdout"
        }
      ]
    },
    {
      "cell_type": "code",
      "metadata": {
        "colab": {
          "base_uri": "https://localhost:8080/"
        },
        "id": "XyOKdsOMhBry",
        "outputId": "26bad02f-9548-4012-fb7b-ddfe874d3187"
      },
      "source": [
        "t_EXP_NUMBER(\"1.5e-3\")"
      ],
      "execution_count": null,
      "outputs": [
        {
          "output_type": "stream",
          "text": [
            "Valor inserido: 1.5E-3\n",
            "Tipo de 1.5E-3: <class 'float'>\n",
            "Dobro de 1.5E-3 em decimal: 0.003\n",
            "Dobro de 1.5E-3 em notação científica: 3.00e-03\n"
          ],
          "name": "stdout"
        }
      ]
    },
    {
      "cell_type": "code",
      "metadata": {
        "colab": {
          "base_uri": "https://localhost:8080/"
        },
        "id": "aVPH_97siVBI",
        "outputId": "69e876f8-4833-4b54-fff1-6550ffb25590"
      },
      "source": [
        "t_EXP_NUMBER(\"-1.5e-3\")"
      ],
      "execution_count": null,
      "outputs": [
        {
          "output_type": "stream",
          "text": [
            "Valor inserido: -1.5E-3\n",
            "Tipo de -1.5E-3: <class 'float'>\n",
            "Dobro de -1.5E-3 em decimal: -0.003\n",
            "Dobro de -1.5E-3 em notação científica: -3.00e-03\n"
          ],
          "name": "stdout"
        }
      ]
    }
  ]
}